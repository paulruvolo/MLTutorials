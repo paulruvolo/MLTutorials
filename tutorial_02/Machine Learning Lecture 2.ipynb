{
 "metadata": {
  "name": ""
 },
 "nbformat": 3,
 "nbformat_minor": 0,
 "worksheets": [
  {
   "cells": [
    {
     "cell_type": "heading",
     "level": 1,
     "metadata": {},
     "source": [
      "Machine Learning Lecture 2"
     ]
    },
    {
     "cell_type": "markdown",
     "metadata": {},
     "source": [
      "**Abstract:**  These exercises will familiarize with more advanced machine learning concepts including hyperparameter tuning and cross-validation.  You will also see how to visualize the model that is learned\n",
      "by a machine learning classifier.\n",
      "\n",
      "Following up from last time, we can use the following code to create our learning curve:"
     ]
    },
    {
     "cell_type": "code",
     "collapsed": false,
     "input": [
      "%matplotlib inline\n",
      "import matplotlib.pyplot as plt\n",
      "import numpy\n",
      "from sklearn.datasets import *\n",
      "from sklearn.cross_validation import train_test_split\n",
      "from sklearn.linear_model import LogisticRegression\n",
      "\n",
      "data = load_digits()\n",
      "print data.DESCR\n",
      "n_trials = 5\n",
      "train_percentages = range(5,95,5)\n",
      "test_accuracies = numpy.zeros(len(train_percentages))\n",
      "\n",
      "for (i,train_percent) in enumerate(train_percentages):\n",
      "        test_accuracy = numpy.zeros(n_trials)\n",
      "        for n in range(n_trials):\n",
      "                X_train, X_test, y_train, y_test = train_test_split(data.data, data.target, train_size=train_percent/100.0)\n",
      "                model = LogisticRegression(C=10**10)\n",
      "                model.fit(X_train, y_train)\n",
      "                test_accuracy[n] = model.score(X_test, y_test)\n",
      "        test_accuracies[i] = test_accuracy.mean()\n",
      "\n",
      "fig = plt.figure()\n",
      "plt.plot(train_percentages, test_accuracies)\n",
      "plt.xlabel('Percentage of Data Used for Training')\n",
      "plt.ylabel('Accuracy on Test Set')\n",
      "plt.show()"
     ],
     "language": "python",
     "metadata": {},
     "outputs": [
      {
       "output_type": "stream",
       "stream": "stdout",
       "text": [
        " Optical Recognition of Handwritten Digits Data Set\n",
        "\n",
        "Notes\n",
        "-----\n",
        "Data Set Characteristics:\n",
        "    :Number of Instances: 5620\n",
        "    :Number of Attributes: 64\n",
        "    :Attribute Information: 8x8 image of integer pixels in the range 0..16.\n",
        "    :Missing Attribute Values: None\n",
        "    :Creator: E. Alpaydin (alpaydin '@' boun.edu.tr)\n",
        "    :Date: July; 1998\n",
        "\n",
        "This is a copy of the test set of the UCI ML hand-written digits datasets\n",
        "http://archive.ics.uci.edu/ml/datasets/Optical+Recognition+of+Handwritten+Digits\n",
        "\n",
        "The data set contains images of hand-written digits: 10 classes where\n",
        "each class refers to a digit.\n",
        "\n",
        "Preprocessing programs made available by NIST were used to extract\n",
        "normalized bitmaps of handwritten digits from a preprinted form. From a\n",
        "total of 43 people, 30 contributed to the training set and different 13\n",
        "to the test set. 32x32 bitmaps are divided into nonoverlapping blocks of\n",
        "4x4 and the number of on pixels are counted in each block. This generates\n",
        "an input matrix of 8x8 where each element is an integer in the range\n",
        "0..16. This reduces dimensionality and gives invariance to small\n",
        "distortions.\n",
        "\n",
        "For info on NIST preprocessing routines, see M. D. Garris, J. L. Blue, G.\n",
        "T. Candela, D. L. Dimmick, J. Geist, P. J. Grother, S. A. Janet, and C.\n",
        "L. Wilson, NIST Form-Based Handprint Recognition System, NISTIR 5469,\n",
        "1994.\n",
        "\n",
        "References\n",
        "----------\n",
        "  - C. Kaynak (1995) Methods of Combining Multiple Classifiers and Their\n",
        "    Applications to Handwritten Digit Recognition, MSc Thesis, Institute of\n",
        "    Graduate Studies in Science and Engineering, Bogazici University.\n",
        "  - E. Alpaydin, C. Kaynak (1998) Cascading Classifiers, Kybernetika.\n",
        "  - Ken Tang and Ponnuthurai N. Suganthan and Xi Yao and A. Kai Qin.\n",
        "    Linear dimensionalityreduction using relevance weighted LDA. School of\n",
        "    Electrical and Electronic Engineering Nanyang Technological University.\n",
        "    2005.\n",
        "  - Claudio Gentile. A New Approximate Maximal Margin Classification\n",
        "    Algorithm. NIPS. 2000.\n",
        "\n"
       ]
      },
      {
       "metadata": {},
       "output_type": "display_data",
       "png": "[encoded data removed]",
       "text": [
        "<matplotlib.figure.Figure at 0x109ac5b90>"
       ]
      }
     ],
     "prompt_number": 1
    },
    {
     "cell_type": "markdown",
     "metadata": {},
     "source": [
      "\n",
      "\n",
      "## Strategies for Preventing Overfitting: Regularization\n",
      "\n",
      "The graph above shows the performance of a logistic regression model at predicting which digit is represented by an 8 pixel by 8 pixel grayscale image of a hand written digit.\n",
      "\n",
      "While it is nice that the model\u2019s performance increases as we add more data, it would be nice if there was a way to have it all: better performance with less data.  Fortunately, many machine learning algorithms have strategies that attempt to achieve this goal.  Consider the objective function of the standard logistic regression model that we talked about a couple of lectures ago:\n",
      "\n",
      "$f(w,X,y) = \\sum_{i=1}^n \\left (y_i \\mbox{log} \\left ( \\frac{1}{1+e^{-w^\\top x_i}} \\right ) + (1 - y_i) \\mbox{log}\\left ( 1 - \\frac{1}{1+e^{-w^\\top x_i}}\\right ) \\right ) $\n",
      "\n",
      "We can augment this objective with a term that serves to penalize large weights (i.e. large values of the entries of w).  This modification serves to reduce the flexibility of fitting the training data, thereby improving the performance on predicting future data.  The modified objective function is:\n",
      "\n",
      "$f(w,X,y) = \\sum_{i=1}^n \\left (y_i \\mbox{log} \\left ( \\frac{1}{1+e^{-w^\\top x_i}} \\right ) + (1 - y_i) \\mbox{log}\\left ( 1 - \\frac{1}{1+e^{-w^\\top x_i}}\\right ) \\right ) + \\frac{1}{C} \\sum_{i=1}^d w_i^2$\n",
      "\n",
      "Where C is a positive constant that balance how much we care about fitting the training data compared to penalizing large weights.  To understand this a bit better, let\u2019s consider the limiting behavior.  How would this new version of logistic regression behave as C goes to 0?  How about as C goes to infinity?\n",
      "\n",
      "We can rerun our experiment on learning to recognize handwritten digits with this modified version of logistic regression.  For starters, let\u2019s just use the default value of C=1.  The learning curves for no regularization versus C=1 now looks like this:\n",
      "\n",
      "<div align=\"center\"><img src=\"files/images/digits_learning_curve_none_and_C1.png\" width=\"30%\"/></div>\n",
      "\n",
      "Hnmmm\u2026 that looks to be a bit better.  However, we might ask ourselves whether we can do even better if we tuned the value of C a little bit.\n",
      "\n",
      "## Tuning Hyper Parameters\n",
      "\n",
      "It turns out that properly tuning the values of constants such as C (the penalty for large weights in the logistic regression model) is perhaps the most important skill for successfully applying machine learning to a problem.  Let\u2019s see how this learning curve will look with different values of C:\n",
      "\n",
      "<div align=\"center\"><img src=\"files/images/digits_learning_curve_C_comparison.png\"/></div>\n",
      "\n",
      "If we zoom in a bit on the more interesting part of the graph:\n",
      "\n",
      "<div align=\"center\"><img src=\"files/images/digits_learning_curve_C_comparison_zoomed.png\"/></div>\n",
      "\n",
      "It looks like we can do a bit better than the default value of C=1 by choosing C=0.01.  How well do would we expect our model to do on predicting images of handwritten digits if we were to collect a brand new database?\n",
      "\n",
      "Luckily, Scikit-learn provides some built-in mechanisms for doing parameter tuning in a sensible manner.  One such method is to use a cross validation to choose the optimal setting of a particular parameter.\n",
      "\n",
      "Cross validation can be performed in scikit-learn using the following code:"
     ]
    },
    {
     "cell_type": "code",
     "collapsed": true,
     "input": [
      "from sklearn.cross_validation import train_test_split\n",
      "from sklearn.grid_search import GridSearchCV\n",
      "from sklearn.datasets import *\n",
      "from sklearn.linear_model import LogisticRegression\n",
      "\n",
      "data = load_digits()\n",
      "\n",
      "tuned_parameters = [{'C': [10**-4, 10**-2, 10**0, 10**2, 10**4]}]\n",
      "X_train, X_test, y_train, y_test = train_test_split(data.data, data.target, train_size=.9)\n",
      "\n",
      "model = GridSearchCV(LogisticRegression(), tuned_parameters, cv=5)\n",
      "model.fit(X_train, y_train)\n",
      "\n",
      "print model.best_estimator_\n",
      "print model.score(X_test, y_test)"
     ],
     "language": "python",
     "metadata": {},
     "outputs": [
      {
       "output_type": "stream",
       "stream": "stdout",
       "text": [
        "LogisticRegression(C=0.01, class_weight=None, dual=False, fit_intercept=True,\n",
        "          intercept_scaling=1, penalty=l2, random_state=None, tol=0.0001)\n",
        "0.933333333333\n"
       ]
      }
     ],
     "prompt_number": 1
    },
    {
     "cell_type": "markdown",
     "metadata": {},
     "source": [
      "## Visualizing the Learned Model\n",
      "\n",
      "In some cases it may be informative to examine the pattern of weights learned by a machine learning model.  This visualization can either be useful for understanding your data in a new way, or as a method of creating new features in order to improve model performance.\n",
      "\n",
      "To visualize how the logistic regression model discriminates between the various classes of digits, we use the following code:"
     ]
    },
    {
     "cell_type": "code",
     "collapsed": false,
     "input": [
      "%matplotlib inline\n",
      "from sklearn.datasets import *\n",
      "import matplotlib.pyplot as plt\n",
      "import numpy\n",
      "from sklearn.linear_model import LogisticRegression\n",
      "\n",
      "data = load_digits()\n",
      "model = LogisticRegression(C=10**-2)\n",
      "model.fit(data.data, data.target)\n",
      "\n",
      "fig = plt.figure()\n",
      "\n",
      "for i in range(10):\n",
      "    subplot = fig.add_subplot(5,2,i+1)\n",
      "    subplot.matshow( numpy.reshape(model.raw_coef_[i][1:], (8,8)), cmap='gray')\n",
      "    subplot.axes.get_xaxis().set_visible(False)\n",
      "    subplot.axes.get_yaxis().set_visible(False)\n",
      "\n",
      "plt.show()"
     ],
     "language": "python",
     "metadata": {},
     "outputs": [
      {
       "metadata": {},
       "output_type": "display_data",
       "png": "[encoded data removed]",
       "text": [
        "<matplotlib.figure.Figure at 0x10bfcefd0>"
       ]
      }
     ],
     "prompt_number": 6
    },
    {
     "cell_type": "markdown",
     "metadata": {},
     "source": [
      "## Non-linear Models\n",
      "\n",
      "Now that we have learned the basics of the process of applying a particular machine learning algorithm (logistic regression), we can start to explore more advanced machine learning algorithms.  There are probably hundreds of machine learning algorithms for every step of the machine learning pipeline.  Scikit learn has some of the built-in (check out the documentation [here](http://scikit-learn.org/stable/tutorial/statistical_inference/supervised_learning.html)).  Next, I will briefly show how we can apply a new machine learning algorithm to the task of classifying digits.\n",
      "\n",
      "A very powerful machine learning algorithm is the [support vector machine](http://en.wikipedia.org/wiki/Support_vector_machine) (or SVM).  Part of the reason that this algorithm is so powerful is that it is capable of learning non-linear decision boundaries.\n",
      "\n",
      "In order to apply the support vector machine to the digit classification problem, we need to intelligently tune the parameters of the algorithm (or else we will get suboptimal performance).  In contrast the logistic regression model, the support vector machine has more hyper parameters to tune.  Here is a snippet of code that tunes the parameters of a support vector machine:"
     ]
    },
    {
     "cell_type": "code",
     "collapsed": false,
     "input": [
      "from sklearn.cross_validation import train_test_split\n",
      "from sklearn.grid_search import GridSearchCV\n",
      "from sklearn.datasets import *\n",
      "from sklearn.linear_model import LogisticRegression\n",
      "from sklearn.svm import SVC\n",
      "\n",
      "data = load_digits()\n",
      "\n",
      "tuned_parameters = [{'kernel': ['rbf'],'gamma': [1e-3, 1e-4], 'C': [1, 10, 100, 1000]},\n",
      "                    {'kernel': ['linear'], 'C': [1, 10, 100, 1000]}]\n",
      "\n",
      "\n",
      "X_train, X_test, y_train, y_test = train_test_split(data.data, data.target, train_size=0.9)\n",
      "model = GridSearchCV(SVC(C=1), tuned_parameters, cv=5)\n",
      "\n",
      "model.fit(X_train, y_train)\n",
      "\n",
      "print model.best_estimator_\n",
      "print model.score(X_test, y_test)"
     ],
     "language": "python",
     "metadata": {},
     "outputs": [
      {
       "output_type": "stream",
       "stream": "stdout",
       "text": [
        "SVC(C=10, cache_size=200, class_weight=None, coef0=0.0, degree=3, gamma=0.001,\n",
        "  kernel=rbf, max_iter=-1, probability=False, random_state=None,\n",
        "  shrinking=True, tol=0.001, verbose=False)\n",
        "0.994444444444\n"
       ]
      }
     ],
     "prompt_number": 7
    },
    {
     "cell_type": "markdown",
     "metadata": {},
     "source": [
      "Experiment with other built-in scikit-learn classifiers.  For instance, can you use a similar methodology as above but instead apply [k-nearest neighbors](http://scikit-learn.org/stable/tutorial/statistical_inference/supervised_learning.html#k-nearest-neighbors-classifier) or [random forests](http://scikit-learn.org/stable/modules/generated/sklearn.ensemble.RandomForestClassifier.html#sklearn.ensemble.RandomForestClassifier)?  Try this out in the cell below.  Which method appears to do the best?"
     ]
    },
    {
     "cell_type": "markdown",
     "metadata": {},
     "source": [
      "## Where to Go Next?\n",
      "\n",
      "Check out this handy, dandy flow chart illustrating one methodology for choosing the right machine learning tool from scikit-learn\n",
      "\n",
      "<img src=\"http://scikit-learn.org/stable/_static/ml_map.png\" width=\"100%\"/>\n",
      "\n",
      "If you want to learn about Neural networks, check out our own Alec Radford's [Theano tutorials](https://github.com/Newmu/Theano-Tutorials) ([video](https://www.youtube.com/watch?v=S75EdAcXHKk))\n",
      "\n",
      "Also, as stated last time, there are some great places to get more datasets.  The easiest place to start is to look at the [other toy datasets](http://scikit-learn.org/stable/datasets/) that are built into scikit-learn.  Three good places to start are the [UCI Machine Learning Repository](http://archive.ics.uci.edu/ml/), [Kaggle](http://www.kaggle.com/), and [Driven Data](http://www.drivendata.org/)."
     ]
    }
   ],
   "metadata": {}
  }
 ]
}